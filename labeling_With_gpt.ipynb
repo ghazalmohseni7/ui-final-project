{
  "nbformat": 4,
  "nbformat_minor": 0,
  "metadata": {
    "colab": {
      "provenance": []
    },
    "kernelspec": {
      "name": "python3",
      "display_name": "Python 3"
    },
    "language_info": {
      "name": "python"
    }
  },
  "cells": [
    {
      "cell_type": "code",
      "execution_count": null,
      "metadata": {
        "colab": {
          "base_uri": "https://localhost:8080/"
        },
        "id": "jsAodbbO0eg-",
        "outputId": "959c6479-6ed6-4706-fb7c-19f0aefe6c4c"
      },
      "outputs": [
        {
          "output_type": "stream",
          "name": "stdout",
          "text": [
            "Mounted at /content/gdrive\n"
          ]
        }
      ],
      "source": [
        "from google.colab import drive\n",
        "drive.mount('/content/gdrive')"
      ]
    },
    {
      "cell_type": "markdown",
      "source": [
        "**Libraries**"
      ],
      "metadata": {
        "id": "8IlCe2nR3HNt"
      }
    },
    {
      "cell_type": "code",
      "source": [
        "!pip install openai"
      ],
      "metadata": {
        "colab": {
          "base_uri": "https://localhost:8080/"
        },
        "id": "iQdltNYR1pal",
        "outputId": "a52d6310-aabd-49ff-ec2c-068fadca8c51"
      },
      "execution_count": null,
      "outputs": [
        {
          "output_type": "stream",
          "name": "stdout",
          "text": [
            "Looking in indexes: https://pypi.org/simple, https://us-python.pkg.dev/colab-wheels/public/simple/\n",
            "Collecting openai\n",
            "  Downloading openai-0.27.6-py3-none-any.whl (71 kB)\n",
            "\u001b[2K     \u001b[90m━━━━━━━━━━━━━━━━━━━━━━━━━━━━━━━━━━━━━━━━\u001b[0m \u001b[32m71.9/71.9 kB\u001b[0m \u001b[31m3.1 MB/s\u001b[0m eta \u001b[36m0:00:00\u001b[0m\n",
            "\u001b[?25hRequirement already satisfied: requests>=2.20 in /usr/local/lib/python3.10/dist-packages (from openai) (2.27.1)\n",
            "Requirement already satisfied: tqdm in /usr/local/lib/python3.10/dist-packages (from openai) (4.65.0)\n",
            "Collecting aiohttp (from openai)\n",
            "  Downloading aiohttp-3.8.4-cp310-cp310-manylinux_2_17_x86_64.manylinux2014_x86_64.whl (1.0 MB)\n",
            "\u001b[2K     \u001b[90m━━━━━━━━━━━━━━━━━━━━━━━━━━━━━━━━━━━━━━━━\u001b[0m \u001b[32m1.0/1.0 MB\u001b[0m \u001b[31m19.6 MB/s\u001b[0m eta \u001b[36m0:00:00\u001b[0m\n",
            "\u001b[?25hRequirement already satisfied: urllib3<1.27,>=1.21.1 in /usr/local/lib/python3.10/dist-packages (from requests>=2.20->openai) (1.26.15)\n",
            "Requirement already satisfied: certifi>=2017.4.17 in /usr/local/lib/python3.10/dist-packages (from requests>=2.20->openai) (2022.12.7)\n",
            "Requirement already satisfied: charset-normalizer~=2.0.0 in /usr/local/lib/python3.10/dist-packages (from requests>=2.20->openai) (2.0.12)\n",
            "Requirement already satisfied: idna<4,>=2.5 in /usr/local/lib/python3.10/dist-packages (from requests>=2.20->openai) (3.4)\n",
            "Requirement already satisfied: attrs>=17.3.0 in /usr/local/lib/python3.10/dist-packages (from aiohttp->openai) (23.1.0)\n",
            "Collecting multidict<7.0,>=4.5 (from aiohttp->openai)\n",
            "  Downloading multidict-6.0.4-cp310-cp310-manylinux_2_17_x86_64.manylinux2014_x86_64.whl (114 kB)\n",
            "\u001b[2K     \u001b[90m━━━━━━━━━━━━━━━━━━━━━━━━━━━━━━━━━━━━━━\u001b[0m \u001b[32m114.5/114.5 kB\u001b[0m \u001b[31m11.6 MB/s\u001b[0m eta \u001b[36m0:00:00\u001b[0m\n",
            "\u001b[?25hCollecting async-timeout<5.0,>=4.0.0a3 (from aiohttp->openai)\n",
            "  Downloading async_timeout-4.0.2-py3-none-any.whl (5.8 kB)\n",
            "Collecting yarl<2.0,>=1.0 (from aiohttp->openai)\n",
            "  Downloading yarl-1.9.2-cp310-cp310-manylinux_2_17_x86_64.manylinux2014_x86_64.whl (268 kB)\n",
            "\u001b[2K     \u001b[90m━━━━━━━━━━━━━━━━━━━━━━━━━━━━━━━━━━━━━━\u001b[0m \u001b[32m268.8/268.8 kB\u001b[0m \u001b[31m24.8 MB/s\u001b[0m eta \u001b[36m0:00:00\u001b[0m\n",
            "\u001b[?25hCollecting frozenlist>=1.1.1 (from aiohttp->openai)\n",
            "  Downloading frozenlist-1.3.3-cp310-cp310-manylinux_2_5_x86_64.manylinux1_x86_64.manylinux_2_17_x86_64.manylinux2014_x86_64.whl (149 kB)\n",
            "\u001b[2K     \u001b[90m━━━━━━━━━━━━━━━━━━━━━━━━━━━━━━━━━━━━━━\u001b[0m \u001b[32m149.6/149.6 kB\u001b[0m \u001b[31m15.4 MB/s\u001b[0m eta \u001b[36m0:00:00\u001b[0m\n",
            "\u001b[?25hCollecting aiosignal>=1.1.2 (from aiohttp->openai)\n",
            "  Downloading aiosignal-1.3.1-py3-none-any.whl (7.6 kB)\n",
            "Installing collected packages: multidict, frozenlist, async-timeout, yarl, aiosignal, aiohttp, openai\n",
            "Successfully installed aiohttp-3.8.4 aiosignal-1.3.1 async-timeout-4.0.2 frozenlist-1.3.3 multidict-6.0.4 openai-0.27.6 yarl-1.9.2\n"
          ]
        }
      ]
    },
    {
      "cell_type": "code",
      "source": [
        "!pip install tiktoken"
      ],
      "metadata": {
        "colab": {
          "base_uri": "https://localhost:8080/"
        },
        "id": "h5s1TfDh1xfz",
        "outputId": "cf20b1e9-fd53-431c-c78d-6cacc6b61661"
      },
      "execution_count": null,
      "outputs": [
        {
          "output_type": "stream",
          "name": "stdout",
          "text": [
            "Looking in indexes: https://pypi.org/simple, https://us-python.pkg.dev/colab-wheels/public/simple/\n",
            "Collecting tiktoken\n",
            "  Downloading tiktoken-0.4.0-cp310-cp310-manylinux_2_17_x86_64.manylinux2014_x86_64.whl (1.7 MB)\n",
            "\u001b[2K     \u001b[90m━━━━━━━━━━━━━━━━━━━━━━━━━━━━━━━━━━━━━━━━\u001b[0m \u001b[32m1.7/1.7 MB\u001b[0m \u001b[31m21.9 MB/s\u001b[0m eta \u001b[36m0:00:00\u001b[0m\n",
            "\u001b[?25hRequirement already satisfied: regex>=2022.1.18 in /usr/local/lib/python3.10/dist-packages (from tiktoken) (2022.10.31)\n",
            "Requirement already satisfied: requests>=2.26.0 in /usr/local/lib/python3.10/dist-packages (from tiktoken) (2.27.1)\n",
            "Requirement already satisfied: urllib3<1.27,>=1.21.1 in /usr/local/lib/python3.10/dist-packages (from requests>=2.26.0->tiktoken) (1.26.15)\n",
            "Requirement already satisfied: certifi>=2017.4.17 in /usr/local/lib/python3.10/dist-packages (from requests>=2.26.0->tiktoken) (2022.12.7)\n",
            "Requirement already satisfied: charset-normalizer~=2.0.0 in /usr/local/lib/python3.10/dist-packages (from requests>=2.26.0->tiktoken) (2.0.12)\n",
            "Requirement already satisfied: idna<4,>=2.5 in /usr/local/lib/python3.10/dist-packages (from requests>=2.26.0->tiktoken) (3.4)\n",
            "Installing collected packages: tiktoken\n",
            "Successfully installed tiktoken-0.4.0\n"
          ]
        }
      ]
    },
    {
      "cell_type": "markdown",
      "source": [
        "**Imports**"
      ],
      "metadata": {
        "id": "h0FzILpu2_f1"
      }
    },
    {
      "cell_type": "code",
      "source": [
        "import pandas as pd\n",
        "import tiktoken\n",
        "import time"
      ],
      "metadata": {
        "id": "0rP9hoJP2-0e"
      },
      "execution_count": null,
      "outputs": []
    },
    {
      "cell_type": "code",
      "source": [
        "\n",
        "def token_count(text):\n",
        "\n",
        "  encoding = tiktoken.get_encoding(\"cl100k_base\")\n",
        "  # encoding = tiktoken.get_encoding(\"p50k_base\")\n",
        "  # print(encoding)\n",
        "  # print(encoding.encode(text))\n",
        "  # print(type(encoding.encode(text)))\n",
        "  num_tokens = len(encoding.encode(text))\n",
        "  return num_tokens"
      ],
      "metadata": {
        "id": "1LL3_u4n11nW"
      },
      "execution_count": null,
      "outputs": []
    },
    {
      "cell_type": "code",
      "source": [
        "def convert_response(response):\n",
        "  sentiment=response['choices'][0][\"message\"]['content']\n",
        "  sentiment=sentiment.replace(\"Apple -\",\"\").replace(\"Target 1\",\"Apple\")\n",
        "  sentiment=sentiment.replace(\"Samsung - \",\"\").replace(\"Target 2\",\"Samsung\")\n",
        "  lines = sentiment.split('\\n')\n",
        "  dictionary = {}\n",
        "  for line in lines:\n",
        "      key, value = line.split(': ')\n",
        "      target, sentiment = key.strip(), value.strip()\n",
        "      dictionary[target] = sentiment\n",
        "      print(\"***********************************************\")\n",
        "      print(dictionary)\n",
        "      print(len(dictionary.keys()))\n",
        "      print(\"***********************************************\")\n",
        "  return dictionary"
      ],
      "metadata": {
        "id": "cMAff_3Z6TiP"
      },
      "execution_count": null,
      "outputs": []
    },
    {
      "cell_type": "code",
      "source": [
        "def convert_response1(response):\n",
        "  sentiment=response['choices'][0][\"message\"]['content']\n",
        "\n",
        "  lines = sentiment.split('\\n')\n",
        "  dictionary = {}\n",
        "  for line in lines:\n",
        "      if \"Target 1\" in line or \"Apple\" in line:\n",
        "        print(\"اپل موجوده \")\n",
        "        if 'Neutral' in line:\n",
        "          dictionary[\"Apple\"]=\"Neutral\"\n",
        "        if \"Disagree\" in line:\n",
        "          dictionary[\"Apple\"]=\"Disagree\"\n",
        "        if \"Agree\" in line:\n",
        "          dictionary[\"Apple\"]=\"Agree\"\n",
        "      else:\n",
        "        print(\"اپل موجود نیست\")\n",
        "      if \"Target 2\" in line or \"Samsung\" in line:\n",
        "        print(\"سامسونگ موجوده \")\n",
        "        if 'Neutral' in line:\n",
        "          dictionary[\"Samsung\"]=\"Neutral\"\n",
        "        if \"Disagree\" in line:\n",
        "          dictionary[\"Samsung\"]=\"Disagree\"\n",
        "        if \"Agree\" in line:\n",
        "          dictionary[\"Samsung\"]=\"Agree\"\n",
        "      else:\n",
        "        print(\"سامسونگ موجود نیست\")\n",
        "  return dictionary"
      ],
      "metadata": {
        "id": "rZJjbPyrWi4s"
      },
      "execution_count": null,
      "outputs": []
    },
    {
      "cell_type": "code",
      "source": [
        "from numpy.core.multiarray import promote_types\n",
        "import openai\n",
        "import pandas as pd\n",
        "import time\n",
        "# Set up your OpenAI API key\n",
        "openai.api_key = \"your apikey\"\n",
        "prompt='''Label the sentiment of the following text towards Apple and Samsung. Provide two labels, one for each target:\n",
        "\n",
        "Target 1: Apple\n",
        "Target 2: Samsung\n",
        "\n",
        "For each target, choose one of the following labels:\n",
        "- Agree: If the text expresses a positive sentiment towards the target.\n",
        "- Disagree: If the text expresses a negative sentiment towards the target.\n",
        "- Neutral: If the text does not express any sentiment towards the target.\n",
        "Text : {}\n",
        "'''\n",
        "\n",
        "def analyze_sentiments(text):\n",
        "    response = openai.ChatCompletion.create(\n",
        "            model=\"gpt-3.5-turbo\",\n",
        "            messages=[ {\"role\": \"user\", \"content\": prompt.format(text)}, ]\n",
        "    )\n",
        "    time.sleep(60)\n",
        "    return response\n"
      ],
      "metadata": {
        "id": "ddcIaauKzLqw"
      },
      "execution_count": null,
      "outputs": []
    },
    {
      "cell_type": "code",
      "source": [
        "\n",
        "df=pd.read_csv(\"/content/gdrive/MyDrive/Colab Notebooks/ui2/subset2.csv\")\n",
        "def run_code():\n",
        "\n",
        "  for i, row in df.iterrows():\n",
        "\n",
        "        samsung=pd.isna(df.loc[i, \"samsung\"])\n",
        "        apple=pd.isna(df.loc[i, \"apple\"])\n",
        "        print(samsung,apple)\n",
        "        if samsung==True and apple==True:\n",
        "          print(i)\n",
        "          text = row[\"comments\"]\n",
        "          count=token_count(text)\n",
        "          # print(count)\n",
        "          print(text)\n",
        "          print(\"/////////////////////////////////////////////\")\n",
        "          if count<=1900:\n",
        "            df.loc[i, 'token'] = count\n",
        "            # if i<=10:\n",
        "            print(\"<<<<<<<<<<<<<<<<<<<<<<<<<<<<<<<<<<<<<<<<<< start calling api <<<<<<<<<<<<<<<<<<<<<<<<<<<<<<<<<<<<<<<<<<<<<<<<<<<<<<<<<\")\n",
        "            response=analyze_sentiments(text)\n",
        "            final_response=convert_response1(response)\n",
        "            print(final_response)\n",
        "            if len(final_response.keys())==2:\n",
        "              print(\"samsung is : \",final_response['Samsung'])\n",
        "              print(\"apple is : \",final_response['Apple'])\n",
        "              df.loc[i, 'samsung'] = final_response['Samsung']\n",
        "              df.loc[i, 'apple'] = final_response['Apple']\n",
        "              df.to_csv(\"/content/gdrive/MyDrive/Colab Notebooks/ui2/subset2.csv\", index=False)\n",
        "              print(\" bro usage ro negah kon\")\n",
        "              print(\"start sleep\")\n",
        "              print(\"<<<<<<<<<<<<<<<<<<<<<<<<<<<<<<<<<<<<<<<<<<<<<<<<<<<<<<<<<<<<<<<<<<<<<<<<<<<<<<<<<<<<<<<<<<<<<<<<<<<\")\n",
        "              # time.sleep(60)\n",
        "            else:\n",
        "              print(\"#########################################################################\")\n",
        "              print(final_response.keys())\n",
        "              print(\"#########################################################################\")\n",
        "\n",
        "            # df['token']=count\n",
        "          else:\n",
        "            # df['token']=\"no\"\n",
        "            df.loc[i, 'token'] = \"no\"\n",
        "            df.to_csv(\"/content/gdrive/MyDrive/Colab Notebooks/ui2/subset2.csv\", index=False)\n"
      ],
      "metadata": {
        "id": "a6TdoUEjKz_Y"
      },
      "execution_count": null,
      "outputs": []
    },
    {
      "cell_type": "code",
      "source": [
        "run_code()"
      ],
      "metadata": {
        "colab": {
          "base_uri": "https://localhost:8080/",
          "height": 1000
        },
        "id": "USAjFe2NL1MO",
        "outputId": "325d9833-431d-42c3-851b-8eef2aee10ff"
      },
      "execution_count": null,
      "outputs": [
        {
          "output_type": "stream",
          "name": "stdout",
          "text": [
            "True True\n",
            "0\n",
            "سلام دوستان وقتتون بخیر ممنون میشم دوستانی که آیفون X دارن نظرشونو درباره باطریش بگن آیا یه روز استفاده معمولی رو جواب میده یا ن؟\n",
            "/////////////////////////////////////////////\n",
            "<<<<<<<<<<<<<<<<<<<<<<<<<<<<<<<<<<<<<<<<<< start calling api <<<<<<<<<<<<<<<<<<<<<<<<<<<<<<<<<<<<<<<<<<<<<<<<<<<<<<<<<\n",
            "اپل موجوده \n",
            "سامسونگ موجود نیست\n",
            "اپل موجود نیست\n",
            "سامسونگ موجوده \n",
            "{'Apple': 'Neutral', 'Samsung': 'Neutral'}\n",
            "samsung is :  Neutral\n",
            "apple is :  Neutral\n",
            " bro usage ro negah kon\n",
            "start sleep\n",
            "<<<<<<<<<<<<<<<<<<<<<<<<<<<<<<<<<<<<<<<<<<<<<<<<<<<<<<<<<<<<<<<<<<<<<<<<<<<<<<<<<<<<<<<<<<<<<<<<<<<\n",
            "True True\n",
            "1\n",
            "» در پاسخ به نظر                                                     Mtiinw M                                                به تاریخ                         1401/4/22                        (برای نمایش نظر کلیک کنید...)                                                سلام واقعیتش آیفون ایکس معمولی رو نگیری بهتره بخاطر اینکه همش دست دوم هستند تو بازار ،میتونی تو سایت gsmarena  نگاه کنی حتی تو  آمازون هم  آکبندش موجود نیست.بین  مدل های XR و XSهم مشخصه دیگه ایکس اس با چهار گیگ رم  و باتری قوی تر ارزش خرید بالاتری داره.\n",
            "/////////////////////////////////////////////\n",
            "<<<<<<<<<<<<<<<<<<<<<<<<<<<<<<<<<<<<<<<<<< start calling api <<<<<<<<<<<<<<<<<<<<<<<<<<<<<<<<<<<<<<<<<<<<<<<<<<<<<<<<<\n",
            "اپل موجوده \n",
            "سامسونگ موجود نیست\n",
            "اپل موجود نیست\n",
            "سامسونگ موجوده \n",
            "{'Apple': 'Neutral', 'Samsung': 'Neutral'}\n",
            "samsung is :  Neutral\n",
            "apple is :  Neutral\n",
            " bro usage ro negah kon\n",
            "start sleep\n",
            "<<<<<<<<<<<<<<<<<<<<<<<<<<<<<<<<<<<<<<<<<<<<<<<<<<<<<<<<<<<<<<<<<<<<<<<<<<<<<<<<<<<<<<<<<<<<<<<<<<<\n",
            "True True\n",
            "2\n",
            "سلاممن حداکثر ۱۵ تومن بودجه دارم برای گوشیخیلی هم برام مهم هس برندش آیفون باشهحالا آیفونی ک ب بودجه من بخوره همین آیفون ایکسه، ولی هیچ اطلاعاتی ندارم درباره ایکس معمولی، ایکس اس و ایکس آراگر اطلاعاتی کلی و جامع دارین ک کدوم بهتره ممنون میشم راهنماییم کنین\n",
            "/////////////////////////////////////////////\n",
            "<<<<<<<<<<<<<<<<<<<<<<<<<<<<<<<<<<<<<<<<<< start calling api <<<<<<<<<<<<<<<<<<<<<<<<<<<<<<<<<<<<<<<<<<<<<<<<<<<<<<<<<\n",
            "اپل موجوده \n",
            "سامسونگ موجود نیست\n",
            "اپل موجود نیست\n",
            "سامسونگ موجوده \n",
            "{'Apple': 'Neutral', 'Samsung': 'Neutral'}\n",
            "samsung is :  Neutral\n",
            "apple is :  Neutral\n",
            " bro usage ro negah kon\n",
            "start sleep\n",
            "<<<<<<<<<<<<<<<<<<<<<<<<<<<<<<<<<<<<<<<<<<<<<<<<<<<<<<<<<<<<<<<<<<<<<<<<<<<<<<<<<<<<<<<<<<<<<<<<<<<\n",
            "True True\n",
            "3\n",
            "سلام  دوست عزیز طرف شیامی نرو بدرد نمیخوره هر مدل از گوشی های شیامی چه نوت وردمی گرفتم  بابروز رسانی میپاشه a72بهتره اپل هم خوبه ولی باطری اسپیکر خوبی نداره آیفون xs داشتم مالی نیست تو ایران بدرد بخور نیست\n",
            "/////////////////////////////////////////////\n",
            "<<<<<<<<<<<<<<<<<<<<<<<<<<<<<<<<<<<<<<<<<< start calling api <<<<<<<<<<<<<<<<<<<<<<<<<<<<<<<<<<<<<<<<<<<<<<<<<<<<<<<<<\n",
            "اپل موجوده \n",
            "سامسونگ موجود نیست\n",
            "اپل موجود نیست\n",
            "سامسونگ موجوده \n",
            "{'Apple': 'Neutral', 'Samsung': 'Disagree'}\n",
            "samsung is :  Disagree\n",
            "apple is :  Neutral\n",
            " bro usage ro negah kon\n",
            "start sleep\n",
            "<<<<<<<<<<<<<<<<<<<<<<<<<<<<<<<<<<<<<<<<<<<<<<<<<<<<<<<<<<<<<<<<<<<<<<<<<<<<<<<<<<<<<<<<<<<<<<<<<<<\n",
            "True True\n",
            "4\n",
            "» در پاسخ به نظر                                                     سینا ف                                                به تاریخ                         1400/10/24                        (برای نمایش نظر کلیک کنید...)                                                ...شرکت آیفون ۲۷ میلیون یوزر اکتیو داره برای چی باید جاسوسی کنه؟؟یکم فکر کن بعد حرف بزن. ممنون\n",
            "/////////////////////////////////////////////\n",
            "<<<<<<<<<<<<<<<<<<<<<<<<<<<<<<<<<<<<<<<<<< start calling api <<<<<<<<<<<<<<<<<<<<<<<<<<<<<<<<<<<<<<<<<<<<<<<<<<<<<<<<<\n",
            "اپل موجوده \n",
            "سامسونگ موجود نیست\n",
            "اپل موجود نیست\n",
            "سامسونگ موجوده \n",
            "{'Apple': 'Neutral', 'Samsung': 'Disagree'}\n",
            "samsung is :  Disagree\n",
            "apple is :  Neutral\n",
            " bro usage ro negah kon\n",
            "start sleep\n",
            "<<<<<<<<<<<<<<<<<<<<<<<<<<<<<<<<<<<<<<<<<<<<<<<<<<<<<<<<<<<<<<<<<<<<<<<<<<<<<<<<<<<<<<<<<<<<<<<<<<<\n",
            "True True\n",
            "5\n",
            "» در پاسخ به نظر                                                     Ali A                                                به تاریخ                         1400/10/24                        (برای نمایش نظر کلیک کنید...)                                                به این مشکل Ghost touch گفته میشه، با تعویض تاچ ال سی دی درست میشه.برای کسب اطلاعات بیشتر همین عبارت را گوگل کنید.\n",
            "/////////////////////////////////////////////\n",
            "<<<<<<<<<<<<<<<<<<<<<<<<<<<<<<<<<<<<<<<<<< start calling api <<<<<<<<<<<<<<<<<<<<<<<<<<<<<<<<<<<<<<<<<<<<<<<<<<<<<<<<<\n",
            "اپل موجوده \n",
            "سامسونگ موجود نیست\n",
            "اپل موجود نیست\n",
            "سامسونگ موجوده \n",
            "{'Apple': 'Neutral', 'Samsung': 'Neutral'}\n",
            "samsung is :  Neutral\n",
            "apple is :  Neutral\n",
            " bro usage ro negah kon\n",
            "start sleep\n",
            "<<<<<<<<<<<<<<<<<<<<<<<<<<<<<<<<<<<<<<<<<<<<<<<<<<<<<<<<<<<<<<<<<<<<<<<<<<<<<<<<<<<<<<<<<<<<<<<<<<<\n",
            "True True\n",
            "6\n",
            "سلام من قصد داشتم ایفون ایکس بخرم، و فیس آیدی اصلا برام مهم نیست، اما اگر گوشی ای که فیس آیدیش کارنمیکنه رو بخرم، مشکلی برای گوشی پیش نمیاد آیا؟!و همچنین باتری تعویض شده، چون شنیدم باتری آیفون درهرصورت تعویض میشه.\n",
            "/////////////////////////////////////////////\n",
            "<<<<<<<<<<<<<<<<<<<<<<<<<<<<<<<<<<<<<<<<<< start calling api <<<<<<<<<<<<<<<<<<<<<<<<<<<<<<<<<<<<<<<<<<<<<<<<<<<<<<<<<\n",
            "اپل موجوده \n",
            "سامسونگ موجود نیست\n",
            "اپل موجود نیست\n",
            "سامسونگ موجوده \n",
            "{'Apple': 'Neutral', 'Samsung': 'Disagree'}\n",
            "samsung is :  Disagree\n",
            "apple is :  Neutral\n",
            " bro usage ro negah kon\n",
            "start sleep\n",
            "<<<<<<<<<<<<<<<<<<<<<<<<<<<<<<<<<<<<<<<<<<<<<<<<<<<<<<<<<<<<<<<<<<<<<<<<<<<<<<<<<<<<<<<<<<<<<<<<<<<\n",
            "True True\n",
            "7\n",
            "» در پاسخ به نظر                                                     سینا ف                                                به تاریخ                         1400/10/24                        (برای نمایش نظر کلیک کنید...)                                                لطفا اطلاعات غلط ندیم ب مردم ...\n",
            "/////////////////////////////////////////////\n",
            "<<<<<<<<<<<<<<<<<<<<<<<<<<<<<<<<<<<<<<<<<< start calling api <<<<<<<<<<<<<<<<<<<<<<<<<<<<<<<<<<<<<<<<<<<<<<<<<<<<<<<<<\n",
            "اپل موجوده \n",
            "سامسونگ موجود نیست\n",
            "اپل موجود نیست\n",
            "سامسونگ موجوده \n",
            "{'Apple': 'Neutral', 'Samsung': 'Neutral'}\n",
            "samsung is :  Neutral\n",
            "apple is :  Neutral\n",
            " bro usage ro negah kon\n",
            "start sleep\n",
            "<<<<<<<<<<<<<<<<<<<<<<<<<<<<<<<<<<<<<<<<<<<<<<<<<<<<<<<<<<<<<<<<<<<<<<<<<<<<<<<<<<<<<<<<<<<<<<<<<<<\n",
            "True True\n",
            "8\n",
            "» در پاسخ به نظر                                                     Ali A                                                به تاریخ                         1400/10/24                        (برای نمایش نظر کلیک کنید...)                                                کلا اپل همینطوریه . یه برنامه در پس زمینه داره از گوشی شما جاسوسی می کنه !!! شک نکنید.\n",
            "/////////////////////////////////////////////\n",
            "<<<<<<<<<<<<<<<<<<<<<<<<<<<<<<<<<<<<<<<<<< start calling api <<<<<<<<<<<<<<<<<<<<<<<<<<<<<<<<<<<<<<<<<<<<<<<<<<<<<<<<<\n",
            "اپل موجوده \n",
            "سامسونگ موجود نیست\n",
            "اپل موجود نیست\n",
            "سامسونگ موجوده \n",
            "{'Apple': 'Disagree', 'Samsung': 'Neutral'}\n",
            "samsung is :  Neutral\n",
            "apple is :  Disagree\n",
            " bro usage ro negah kon\n",
            "start sleep\n",
            "<<<<<<<<<<<<<<<<<<<<<<<<<<<<<<<<<<<<<<<<<<<<<<<<<<<<<<<<<<<<<<<<<<<<<<<<<<<<<<<<<<<<<<<<<<<<<<<<<<<\n",
            "True True\n",
            "9\n",
            "» در پاسخ به نظر                                                     مهدی ق                                                به تاریخ                         1400/10/15                        (برای نمایش نظر کلیک کنید...)                                                سلام اپل جاسوسه . اصلا سمت اپل نرو . تو اینترنت جستجو کن همه چیز دستت میاد . اپل پشت پرده وحشتناکی داره . استیو جابز(بنیانگذار اپل) یک هکر کلاه سیاه بوده و اطلاعات مردم رو هک می کرده . پی30 پرو و اس 10 پلاس گزینه های خوبی برای خرید هستند به نظر من. البته فکرکنم پی30 پرو گوگل پلی نداره (البته گوگل جاسوسه و همون بهتر که توی این گوشی نیست) ولی به جای گوگل می توانید از App Gallery و Huawei Mobile Services استفاده کنید که بسیار بهتر و امن تر از گوگل و خدمات گوگل و گوگل پلی و فروشگاه گوگل پلی(گوگل پلی استور) هست.از لحاظ قدرت هم پی30 پرو و اس10 پلاس بسیار قوی تر از آیفون هستند.البته راستش رو بخواهید به سامسونگ هم مقداری شک دارم چون مدتیه داره با اپل همکاری می کنه\n",
            "/////////////////////////////////////////////\n",
            "<<<<<<<<<<<<<<<<<<<<<<<<<<<<<<<<<<<<<<<<<< start calling api <<<<<<<<<<<<<<<<<<<<<<<<<<<<<<<<<<<<<<<<<<<<<<<<<<<<<<<<<\n",
            "اپل موجوده \n",
            "سامسونگ موجود نیست\n",
            "اپل موجود نیست\n",
            "سامسونگ موجوده \n",
            "{'Apple': 'Disagree', 'Samsung': 'Neutral'}\n",
            "samsung is :  Neutral\n",
            "apple is :  Disagree\n",
            " bro usage ro negah kon\n",
            "start sleep\n",
            "<<<<<<<<<<<<<<<<<<<<<<<<<<<<<<<<<<<<<<<<<<<<<<<<<<<<<<<<<<<<<<<<<<<<<<<<<<<<<<<<<<<<<<<<<<<<<<<<<<<\n",
            "True True\n",
            "10\n",
            "سلام دوستان من چند ماه ایکس گرفتم باگوشی یه تایم ده بیست دقیقه ای کار میکنم گوشی قاطی میکنه خودش یه برنامه دیگه باز میکنه از صفحه میاد بیرون حتی در حال چت هم این مشکل رو دارم چه برسه به بازی کسی اطلاعاتی داره لطفا بگه 🙏\n",
            "/////////////////////////////////////////////\n",
            "<<<<<<<<<<<<<<<<<<<<<<<<<<<<<<<<<<<<<<<<<< start calling api <<<<<<<<<<<<<<<<<<<<<<<<<<<<<<<<<<<<<<<<<<<<<<<<<<<<<<<<<\n",
            "اپل موجوده \n",
            "سامسونگ موجود نیست\n",
            "اپل موجود نیست\n",
            "سامسونگ موجوده \n",
            "{'Apple': 'Disagree', 'Samsung': 'Neutral'}\n",
            "samsung is :  Neutral\n",
            "apple is :  Disagree\n",
            " bro usage ro negah kon\n",
            "start sleep\n",
            "<<<<<<<<<<<<<<<<<<<<<<<<<<<<<<<<<<<<<<<<<<<<<<<<<<<<<<<<<<<<<<<<<<<<<<<<<<<<<<<<<<<<<<<<<<<<<<<<<<<\n",
            "True True\n",
            "11\n",
            "» در پاسخ به نظر                                                     محمدحسین خ                                                به تاریخ                         1400/10/20                        (برای نمایش نظر کلیک کنید...)                                                اگه زیاد گوشی عوض میکنی اندروید نگیر، چون برا فروشش ضرر زیاد میکنی، اما اگه گوشی رو زیاد نگه میداری اندروید بگیر، می ۱۱ گوشی خوبیه، اما از من میشنوی از اکوسیستم اپل خارج نشو، همه این شرکتا دارن تلاش میکنن به اپل برسن و کپی میکنن ازش\n",
            "/////////////////////////////////////////////\n",
            "<<<<<<<<<<<<<<<<<<<<<<<<<<<<<<<<<<<<<<<<<< start calling api <<<<<<<<<<<<<<<<<<<<<<<<<<<<<<<<<<<<<<<<<<<<<<<<<<<<<<<<<\n"
          ]
        },
        {
          "output_type": "error",
          "ename": "KeyboardInterrupt",
          "evalue": "ignored",
          "traceback": [
            "\u001b[0;31m---------------------------------------------------------------------------\u001b[0m",
            "\u001b[0;31mKeyboardInterrupt\u001b[0m                         Traceback (most recent call last)",
            "\u001b[0;32m<ipython-input-10-aaf0be3c2c88>\u001b[0m in \u001b[0;36m<cell line: 1>\u001b[0;34m()\u001b[0m\n\u001b[0;32m----> 1\u001b[0;31m \u001b[0mrun_code\u001b[0m\u001b[0;34m(\u001b[0m\u001b[0;34m)\u001b[0m\u001b[0;34m\u001b[0m\u001b[0;34m\u001b[0m\u001b[0m\n\u001b[0m",
            "\u001b[0;32m<ipython-input-9-67f9e86a6e9a>\u001b[0m in \u001b[0;36mrun_code\u001b[0;34m()\u001b[0m\n\u001b[1;32m     18\u001b[0m             \u001b[0;31m# if i<=10:\u001b[0m\u001b[0;34m\u001b[0m\u001b[0;34m\u001b[0m\u001b[0m\n\u001b[1;32m     19\u001b[0m             \u001b[0mprint\u001b[0m\u001b[0;34m(\u001b[0m\u001b[0;34m\"<<<<<<<<<<<<<<<<<<<<<<<<<<<<<<<<<<<<<<<<<< start calling api <<<<<<<<<<<<<<<<<<<<<<<<<<<<<<<<<<<<<<<<<<<<<<<<<<<<<<<<<\"\u001b[0m\u001b[0;34m)\u001b[0m\u001b[0;34m\u001b[0m\u001b[0;34m\u001b[0m\u001b[0m\n\u001b[0;32m---> 20\u001b[0;31m             \u001b[0mresponse\u001b[0m\u001b[0;34m=\u001b[0m\u001b[0manalyze_sentiments\u001b[0m\u001b[0;34m(\u001b[0m\u001b[0mtext\u001b[0m\u001b[0;34m)\u001b[0m\u001b[0;34m\u001b[0m\u001b[0;34m\u001b[0m\u001b[0m\n\u001b[0m\u001b[1;32m     21\u001b[0m             \u001b[0mfinal_response\u001b[0m\u001b[0;34m=\u001b[0m\u001b[0mconvert_response1\u001b[0m\u001b[0;34m(\u001b[0m\u001b[0mresponse\u001b[0m\u001b[0;34m)\u001b[0m\u001b[0;34m\u001b[0m\u001b[0;34m\u001b[0m\u001b[0m\n\u001b[1;32m     22\u001b[0m             \u001b[0mprint\u001b[0m\u001b[0;34m(\u001b[0m\u001b[0mfinal_response\u001b[0m\u001b[0;34m)\u001b[0m\u001b[0;34m\u001b[0m\u001b[0;34m\u001b[0m\u001b[0m\n",
            "\u001b[0;32m<ipython-input-8-365effbd9963>\u001b[0m in \u001b[0;36manalyze_sentiments\u001b[0;34m(text)\u001b[0m\n\u001b[1;32m     22\u001b[0m             \u001b[0mmessages\u001b[0m\u001b[0;34m=\u001b[0m\u001b[0;34m[\u001b[0m \u001b[0;34m{\u001b[0m\u001b[0;34m\"role\"\u001b[0m\u001b[0;34m:\u001b[0m \u001b[0;34m\"user\"\u001b[0m\u001b[0;34m,\u001b[0m \u001b[0;34m\"content\"\u001b[0m\u001b[0;34m:\u001b[0m \u001b[0mprompt\u001b[0m\u001b[0;34m.\u001b[0m\u001b[0mformat\u001b[0m\u001b[0;34m(\u001b[0m\u001b[0mtext\u001b[0m\u001b[0;34m)\u001b[0m\u001b[0;34m}\u001b[0m\u001b[0;34m,\u001b[0m \u001b[0;34m]\u001b[0m\u001b[0;34m\u001b[0m\u001b[0;34m\u001b[0m\u001b[0m\n\u001b[1;32m     23\u001b[0m     )\n\u001b[0;32m---> 24\u001b[0;31m     \u001b[0mtime\u001b[0m\u001b[0;34m.\u001b[0m\u001b[0msleep\u001b[0m\u001b[0;34m(\u001b[0m\u001b[0;36m60\u001b[0m\u001b[0;34m)\u001b[0m\u001b[0;34m\u001b[0m\u001b[0;34m\u001b[0m\u001b[0m\n\u001b[0m\u001b[1;32m     25\u001b[0m     \u001b[0;32mreturn\u001b[0m \u001b[0mresponse\u001b[0m\u001b[0;34m\u001b[0m\u001b[0;34m\u001b[0m\u001b[0m\n",
            "\u001b[0;31mKeyboardInterrupt\u001b[0m: "
          ]
        }
      ]
    },
    {
      "cell_type": "code",
      "source": [
        "def split_dataset():\n",
        "\n",
        "  sheet_id=\"1GG6dw2tVSb9Sp8jrnuy-FdjPP_JYdt5K7OoN_32j6gE\"\n",
        "  df = pd.read_csv(f\"https://docs.google.com/spreadsheets/d/{sheet_id}/export?format=csv\")\n",
        "\n",
        "\n",
        "\n",
        "  # Calculate the number of rows in each subset\n",
        "  n = len(df)\n",
        "  n1 = int(n/3)  # subset 1 will have 1/3 of the rows\n",
        "  n2 = int(n/3)  # subset 2 will have 1/3 of the rows\n",
        "  n3 = n - n1 - n2  # subset 3 will have the remaining rows\n",
        "\n",
        "  # Create the three subsets based on the calculated row counts\n",
        "  subset1 = df[:n1]\n",
        "  subset2 = df[n1:n1+n2]\n",
        "  subset3 = df[n1+n2:]\n",
        "\n",
        "  subset1= subset1.assign(token=\"\")\n",
        "  subset2= subset2.assign(token=\"\")\n",
        "  subset3= subset3.assign(token=\"\")\n",
        "  # subset1[\"token\"]=\"\"\n",
        "  # subset2[\"token\"]=\"\"\n",
        "  # subset3[\"token\"]=\"\"\n",
        "  # print(type(subset1))\n",
        "  # Write each subset to a new CSV file\n",
        "  subset1.to_csv(\"/content/gdrive/MyDrive/Colab Notebooks/ui2/subset1.csv\", index=False)\n",
        "  subset2.to_csv(\"/content/gdrive/MyDrive/Colab Notebooks/ui2/subset2.csv\", index=False)\n",
        "  subset3.to_csv(\"/content/gdrive/MyDrive/Colab Notebooks/ui2/subset3.csv\", index=False)"
      ],
      "metadata": {
        "id": "p2BnO3T7244D"
      },
      "execution_count": null,
      "outputs": []
    },
    {
      "cell_type": "code",
      "source": [
        "split_dataset()"
      ],
      "metadata": {
        "id": "em5LCkC448JW"
      },
      "execution_count": null,
      "outputs": []
    }
  ]
}